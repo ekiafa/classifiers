{
 "metadata": {
  "language_info": {
   "codemirror_mode": {
    "name": "ipython",
    "version": 3
   },
   "file_extension": ".py",
   "mimetype": "text/x-python",
   "name": "python",
   "nbconvert_exporter": "python",
   "pygments_lexer": "ipython3",
   "version": "3.6.9-final"
  },
  "orig_nbformat": 2,
  "kernelspec": {
   "name": "python36964bit7d23341ec93b4a939e7e4331684ad0e0",
   "display_name": "Python 3.6.9 64-bit",
   "language": "python"
  }
 },
 "nbformat": 4,
 "nbformat_minor": 2,
 "cells": [
  {
   "cell_type": "code",
   "execution_count": 1,
   "metadata": {},
   "outputs": [],
   "source": [
    "import json\n",
    "import pandas as pd\n",
    "import csv\n",
    "import numpy as np\n",
    "from sklearn.feature_extraction.text import TfidfVectorizer\n",
    "from sklearn.cluster import KMeans\n",
    "from pandas import DataFrame\n",
    "import sklearn.cluster as sk_cluster\n",
    "from sklearn.model_selection import train_test_split\n",
    "from sklearn.linear_model import LogisticRegression\n",
    "from sklearn import metrics\n",
    "from sklearn import tree\n",
    "from sklearn.neighbors import KNeighborsClassifier\n",
    "from sklearn import svm\n",
    "import pandas as pd\n",
    "from pandas import DataFrame\n",
    "import sklearn.feature_extraction.text as sk_text\n",
    "import gensim \n",
    "from gensim.models import Word2Vec\n"
   ]
  },
  {
   "cell_type": "code",
   "execution_count": 2,
   "metadata": {},
   "outputs": [
    {
     "output_type": "execute_result",
     "data": {
      "text/plain": [
       "              business_id                      name  \\\n",
       "0  f9NumwFMBDn751xgFiRbNA  The Range At Lake Norman   \n",
       "1  Yzvjg0SayhoZgCljUJRF9Q         Carlos Santo, NMD   \n",
       "2  XNoUzKckATkOD1hP6vghZg                   Felinus   \n",
       "3  6OAZjbxqM5ol29BuHsil3w      Nevada House of Hose   \n",
       "4  51M2Kk903DFYI6gnB5I6SQ   USE MY GUY SERVICES LLC   \n",
       "\n",
       "                     address             city state postal_code   latitude  \\\n",
       "0            10913 Bailey Rd        Cornelius    NC       28031  35.462724   \n",
       "1  8880 E Via Linda, Ste 107       Scottsdale    AZ       85258  33.569404   \n",
       "2      3554 Rue Notre-Dame O         Montreal    QC     H4C 1P4  45.479984   \n",
       "3             1015 Sharp Cir  North Las Vegas    NV       89030  36.219728   \n",
       "4         4827 E Downing Cir             Mesa    AZ       85205  33.428065   \n",
       "\n",
       "    longitude  stars  review_count  is_open  \\\n",
       "0  -80.852612    3.5            36        1   \n",
       "1 -111.890264    5.0             4        1   \n",
       "2  -73.580070    5.0             5        1   \n",
       "3 -115.127725    2.5             3        0   \n",
       "4 -111.726648    4.5            26        1   \n",
       "\n",
       "                                          attributes  \\\n",
       "0  {'BusinessAcceptsCreditCards': 'True', 'BikePa...   \n",
       "1  {'GoodForKids': 'True', 'ByAppointmentOnly': '...   \n",
       "2                                               None   \n",
       "3  {'BusinessAcceptsCreditCards': 'True', 'ByAppo...   \n",
       "4  {'BusinessAcceptsCreditCards': 'True', 'ByAppo...   \n",
       "\n",
       "                                          categories  \\\n",
       "0  Active Life, Gun/Rifle Ranges, Guns & Ammo, Sh...   \n",
       "1  Health & Medical, Fitness & Instruction, Yoga,...   \n",
       "2                   Pets, Pet Services, Pet Groomers   \n",
       "3  Hardware Stores, Home Services, Building Suppl...   \n",
       "4  Home Services, Plumbing, Electricians, Handyma...   \n",
       "\n",
       "                                               hours  \n",
       "0  {'Monday': '10:0-18:0', 'Tuesday': '11:0-20:0'...  \n",
       "1                                               None  \n",
       "2                                               None  \n",
       "3  {'Monday': '7:0-16:0', 'Tuesday': '7:0-16:0', ...  \n",
       "4  {'Monday': '0:0-0:0', 'Tuesday': '9:0-16:0', '...  "
      ],
      "text/html": "<div>\n<style scoped>\n    .dataframe tbody tr th:only-of-type {\n        vertical-align: middle;\n    }\n\n    .dataframe tbody tr th {\n        vertical-align: top;\n    }\n\n    .dataframe thead th {\n        text-align: right;\n    }\n</style>\n<table border=\"1\" class=\"dataframe\">\n  <thead>\n    <tr style=\"text-align: right;\">\n      <th></th>\n      <th>business_id</th>\n      <th>name</th>\n      <th>address</th>\n      <th>city</th>\n      <th>state</th>\n      <th>postal_code</th>\n      <th>latitude</th>\n      <th>longitude</th>\n      <th>stars</th>\n      <th>review_count</th>\n      <th>is_open</th>\n      <th>attributes</th>\n      <th>categories</th>\n      <th>hours</th>\n    </tr>\n  </thead>\n  <tbody>\n    <tr>\n      <th>0</th>\n      <td>f9NumwFMBDn751xgFiRbNA</td>\n      <td>The Range At Lake Norman</td>\n      <td>10913 Bailey Rd</td>\n      <td>Cornelius</td>\n      <td>NC</td>\n      <td>28031</td>\n      <td>35.462724</td>\n      <td>-80.852612</td>\n      <td>3.5</td>\n      <td>36</td>\n      <td>1</td>\n      <td>{'BusinessAcceptsCreditCards': 'True', 'BikePa...</td>\n      <td>Active Life, Gun/Rifle Ranges, Guns &amp; Ammo, Sh...</td>\n      <td>{'Monday': '10:0-18:0', 'Tuesday': '11:0-20:0'...</td>\n    </tr>\n    <tr>\n      <th>1</th>\n      <td>Yzvjg0SayhoZgCljUJRF9Q</td>\n      <td>Carlos Santo, NMD</td>\n      <td>8880 E Via Linda, Ste 107</td>\n      <td>Scottsdale</td>\n      <td>AZ</td>\n      <td>85258</td>\n      <td>33.569404</td>\n      <td>-111.890264</td>\n      <td>5.0</td>\n      <td>4</td>\n      <td>1</td>\n      <td>{'GoodForKids': 'True', 'ByAppointmentOnly': '...</td>\n      <td>Health &amp; Medical, Fitness &amp; Instruction, Yoga,...</td>\n      <td>None</td>\n    </tr>\n    <tr>\n      <th>2</th>\n      <td>XNoUzKckATkOD1hP6vghZg</td>\n      <td>Felinus</td>\n      <td>3554 Rue Notre-Dame O</td>\n      <td>Montreal</td>\n      <td>QC</td>\n      <td>H4C 1P4</td>\n      <td>45.479984</td>\n      <td>-73.580070</td>\n      <td>5.0</td>\n      <td>5</td>\n      <td>1</td>\n      <td>None</td>\n      <td>Pets, Pet Services, Pet Groomers</td>\n      <td>None</td>\n    </tr>\n    <tr>\n      <th>3</th>\n      <td>6OAZjbxqM5ol29BuHsil3w</td>\n      <td>Nevada House of Hose</td>\n      <td>1015 Sharp Cir</td>\n      <td>North Las Vegas</td>\n      <td>NV</td>\n      <td>89030</td>\n      <td>36.219728</td>\n      <td>-115.127725</td>\n      <td>2.5</td>\n      <td>3</td>\n      <td>0</td>\n      <td>{'BusinessAcceptsCreditCards': 'True', 'ByAppo...</td>\n      <td>Hardware Stores, Home Services, Building Suppl...</td>\n      <td>{'Monday': '7:0-16:0', 'Tuesday': '7:0-16:0', ...</td>\n    </tr>\n    <tr>\n      <th>4</th>\n      <td>51M2Kk903DFYI6gnB5I6SQ</td>\n      <td>USE MY GUY SERVICES LLC</td>\n      <td>4827 E Downing Cir</td>\n      <td>Mesa</td>\n      <td>AZ</td>\n      <td>85205</td>\n      <td>33.428065</td>\n      <td>-111.726648</td>\n      <td>4.5</td>\n      <td>26</td>\n      <td>1</td>\n      <td>{'BusinessAcceptsCreditCards': 'True', 'ByAppo...</td>\n      <td>Home Services, Plumbing, Electricians, Handyma...</td>\n      <td>{'Monday': '0:0-0:0', 'Tuesday': '9:0-16:0', '...</td>\n    </tr>\n  </tbody>\n</table>\n</div>"
     },
     "metadata": {},
     "execution_count": 2
    }
   ],
   "source": [
    "business=pd.read_json('yelp_academic_dataset_business.json',lines=True)\n",
    "business.head()"
   ]
  },
  {
   "cell_type": "code",
   "execution_count": 3,
   "metadata": {},
   "outputs": [
    {
     "output_type": "execute_result",
     "data": {
      "text/plain": [
       "                business_id                          name  \\\n",
       "161  cicPsia8Wj-DNRkmLbD_xg      The Keg Steakhouse + Bar   \n",
       "191  xVXyrTWbG8U3szze-aA7eg         St. Louis Bar & Grill   \n",
       "194  e-tRKAC-q40SqQfAOwYa-A  Aum Ayurvedic & Thai Massage   \n",
       "247  TKKX9bllRBMzp0NYr441PQ      Mi'Hito Sushi Laboratory   \n",
       "259  C9keC4mWuXdl2mYFHZXudQ           Uncle Otis Clothing   \n",
       "\n",
       "                      address     city state postal_code   latitude  \\\n",
       "161         2201 Yonge Street  Toronto    ON     M4S 2B2  43.705843   \n",
       "191  557 Dixon Road, Unit 130  Toronto    ON     M9W 1H7  43.690144   \n",
       "194        538 College Street  Toronto    ON     M6G 1A6  43.656008   \n",
       "247        285 College Street  Toronto    ON     M5T 1S2  43.657621   \n",
       "259           329 Spadina Ave  Toronto    ON     M5T 2E9  43.654631   \n",
       "\n",
       "     longitude  stars  review_count  is_open  \\\n",
       "161 -79.397841    3.5            91        1   \n",
       "191 -79.571658    2.0            34        1   \n",
       "194 -79.411205    3.0            12        1   \n",
       "247 -79.400885    4.0            51        1   \n",
       "259 -79.398246    5.0            12        1   \n",
       "\n",
       "                                            attributes  \\\n",
       "161  {'GoodForKids': 'True', 'RestaurantsGoodForGro...   \n",
       "191  {'RestaurantsAttire': 'u'casual'', 'Restaurant...   \n",
       "194  {'ByAppointmentOnly': 'False', 'RestaurantsPri...   \n",
       "247  {'Caters': 'False', 'HasTV': 'True', 'Restaura...   \n",
       "259  {'BusinessParking': '{'garage': False, 'street...   \n",
       "\n",
       "                                            categories  \\\n",
       "161  Steakhouses, Restaurants, Nightlife, Seafood, ...   \n",
       "191  Nightlife, Sports Bars, Bars, Restaurants, Ame...   \n",
       "194  Reflexology, Massage Therapy, Massage, Beauty ...   \n",
       "247  Food, Poke, Fast Food, Sushi Bars, Restaurants...   \n",
       "259  Men's Clothing, Fashion, Shopping, Sports Wear...   \n",
       "\n",
       "                                                 hours  \n",
       "161  {'Monday': '11:30-0:0', 'Tuesday': '11:30-0:0'...  \n",
       "191  {'Monday': '11:30-0:0', 'Tuesday': '11:30-0:0'...  \n",
       "194  {'Monday': '10:0-21:0', 'Tuesday': '10:0-21:0'...  \n",
       "247  {'Monday': '11:30-22:0', 'Tuesday': '11:30-22:...  \n",
       "259  {'Monday': '11:0-19:0', 'Tuesday': '11:0-19:0'...  "
      ],
      "text/html": "<div>\n<style scoped>\n    .dataframe tbody tr th:only-of-type {\n        vertical-align: middle;\n    }\n\n    .dataframe tbody tr th {\n        vertical-align: top;\n    }\n\n    .dataframe thead th {\n        text-align: right;\n    }\n</style>\n<table border=\"1\" class=\"dataframe\">\n  <thead>\n    <tr style=\"text-align: right;\">\n      <th></th>\n      <th>business_id</th>\n      <th>name</th>\n      <th>address</th>\n      <th>city</th>\n      <th>state</th>\n      <th>postal_code</th>\n      <th>latitude</th>\n      <th>longitude</th>\n      <th>stars</th>\n      <th>review_count</th>\n      <th>is_open</th>\n      <th>attributes</th>\n      <th>categories</th>\n      <th>hours</th>\n    </tr>\n  </thead>\n  <tbody>\n    <tr>\n      <th>161</th>\n      <td>cicPsia8Wj-DNRkmLbD_xg</td>\n      <td>The Keg Steakhouse + Bar</td>\n      <td>2201 Yonge Street</td>\n      <td>Toronto</td>\n      <td>ON</td>\n      <td>M4S 2B2</td>\n      <td>43.705843</td>\n      <td>-79.397841</td>\n      <td>3.5</td>\n      <td>91</td>\n      <td>1</td>\n      <td>{'GoodForKids': 'True', 'RestaurantsGoodForGro...</td>\n      <td>Steakhouses, Restaurants, Nightlife, Seafood, ...</td>\n      <td>{'Monday': '11:30-0:0', 'Tuesday': '11:30-0:0'...</td>\n    </tr>\n    <tr>\n      <th>191</th>\n      <td>xVXyrTWbG8U3szze-aA7eg</td>\n      <td>St. Louis Bar &amp; Grill</td>\n      <td>557 Dixon Road, Unit 130</td>\n      <td>Toronto</td>\n      <td>ON</td>\n      <td>M9W 1H7</td>\n      <td>43.690144</td>\n      <td>-79.571658</td>\n      <td>2.0</td>\n      <td>34</td>\n      <td>1</td>\n      <td>{'RestaurantsAttire': 'u'casual'', 'Restaurant...</td>\n      <td>Nightlife, Sports Bars, Bars, Restaurants, Ame...</td>\n      <td>{'Monday': '11:30-0:0', 'Tuesday': '11:30-0:0'...</td>\n    </tr>\n    <tr>\n      <th>194</th>\n      <td>e-tRKAC-q40SqQfAOwYa-A</td>\n      <td>Aum Ayurvedic &amp; Thai Massage</td>\n      <td>538 College Street</td>\n      <td>Toronto</td>\n      <td>ON</td>\n      <td>M6G 1A6</td>\n      <td>43.656008</td>\n      <td>-79.411205</td>\n      <td>3.0</td>\n      <td>12</td>\n      <td>1</td>\n      <td>{'ByAppointmentOnly': 'False', 'RestaurantsPri...</td>\n      <td>Reflexology, Massage Therapy, Massage, Beauty ...</td>\n      <td>{'Monday': '10:0-21:0', 'Tuesday': '10:0-21:0'...</td>\n    </tr>\n    <tr>\n      <th>247</th>\n      <td>TKKX9bllRBMzp0NYr441PQ</td>\n      <td>Mi'Hito Sushi Laboratory</td>\n      <td>285 College Street</td>\n      <td>Toronto</td>\n      <td>ON</td>\n      <td>M5T 1S2</td>\n      <td>43.657621</td>\n      <td>-79.400885</td>\n      <td>4.0</td>\n      <td>51</td>\n      <td>1</td>\n      <td>{'Caters': 'False', 'HasTV': 'True', 'Restaura...</td>\n      <td>Food, Poke, Fast Food, Sushi Bars, Restaurants...</td>\n      <td>{'Monday': '11:30-22:0', 'Tuesday': '11:30-22:...</td>\n    </tr>\n    <tr>\n      <th>259</th>\n      <td>C9keC4mWuXdl2mYFHZXudQ</td>\n      <td>Uncle Otis Clothing</td>\n      <td>329 Spadina Ave</td>\n      <td>Toronto</td>\n      <td>ON</td>\n      <td>M5T 2E9</td>\n      <td>43.654631</td>\n      <td>-79.398246</td>\n      <td>5.0</td>\n      <td>12</td>\n      <td>1</td>\n      <td>{'BusinessParking': '{'garage': False, 'street...</td>\n      <td>Men's Clothing, Fashion, Shopping, Sports Wear...</td>\n      <td>{'Monday': '11:0-19:0', 'Tuesday': '11:0-19:0'...</td>\n    </tr>\n  </tbody>\n</table>\n</div>"
     },
     "metadata": {},
     "execution_count": 3
    }
   ],
   "source": [
    "data=business[(business.review_count >=10) & (business.city=='Toronto')]\n",
    "business_ids=[]\n",
    "\n",
    "for line in data.index:    \n",
    "    if ('Shopping' in str(data.categories[line])  or'Bars' in str(data.categories[line]) or 'Beauty & Spas' in str(data.categories[line])):\n",
    "        business_ids.append(data.business_id[line])\n",
    "        \n",
    "data=data[data['business_id'].isin(business_ids)]\n",
    "data.head()\n"
   ]
  },
  {
   "cell_type": "code",
   "execution_count": 4,
   "metadata": {},
   "outputs": [
    {
     "output_type": "execute_result",
     "data": {
      "text/plain": [
       "                   business_id  \\\n",
       "0       9Eghhu_LzEJgDKNgisf3rg   \n",
       "1       cDoo0Pf1d_P79Rq3ZNk-Mw   \n",
       "2       4m_hApwQ054v3ue_OxFmGw   \n",
       "3       KWojrEKjUqHCRI5HO7pB4g   \n",
       "4       NrJSy3dgcXErFtOKGREmnw   \n",
       "...                        ...   \n",
       "108937  UxWH8zRYIBgs6Q2oykvRdw   \n",
       "108938  mCNzKFTukMYHkZVRMXIIyw   \n",
       "108939  YPwOvJRVAjlhChzsGnCdyg   \n",
       "108940  GhvZDqLJApNYFrByjnb2cA   \n",
       "108941  gyPmHqIqC5-RAAy51oiafQ   \n",
       "\n",
       "                                               textReview  \n",
       "0       Was super excited to bring my boyfriend to thi...  \n",
       "1       Sigh. This review was tough to give, as it cou...  \n",
       "2       Excellent food, service and ambiance! The tapa...  \n",
       "3       After my scathing review of the Perez Museum i...  \n",
       "4       Second brunch visit. Loved the Hash and the Eg...  \n",
       "...                                                   ...  \n",
       "108937  Always enjoy my brunches here. Love the oyster...  \n",
       "108938  This is probably the worst restaurant.. ever. ...  \n",
       "108939  Small cozy place . Great prices, really good s...  \n",
       "108940  \":\"Where did these boobies come from? They're ...  \n",
       "108941  Great ambience and kind of mystic! It is build...  \n",
       "\n",
       "[108942 rows x 2 columns]"
      ],
      "text/html": "<div>\n<style scoped>\n    .dataframe tbody tr th:only-of-type {\n        vertical-align: middle;\n    }\n\n    .dataframe tbody tr th {\n        vertical-align: top;\n    }\n\n    .dataframe thead th {\n        text-align: right;\n    }\n</style>\n<table border=\"1\" class=\"dataframe\">\n  <thead>\n    <tr style=\"text-align: right;\">\n      <th></th>\n      <th>business_id</th>\n      <th>textReview</th>\n    </tr>\n  </thead>\n  <tbody>\n    <tr>\n      <th>0</th>\n      <td>9Eghhu_LzEJgDKNgisf3rg</td>\n      <td>Was super excited to bring my boyfriend to thi...</td>\n    </tr>\n    <tr>\n      <th>1</th>\n      <td>cDoo0Pf1d_P79Rq3ZNk-Mw</td>\n      <td>Sigh. This review was tough to give, as it cou...</td>\n    </tr>\n    <tr>\n      <th>2</th>\n      <td>4m_hApwQ054v3ue_OxFmGw</td>\n      <td>Excellent food, service and ambiance! The tapa...</td>\n    </tr>\n    <tr>\n      <th>3</th>\n      <td>KWojrEKjUqHCRI5HO7pB4g</td>\n      <td>After my scathing review of the Perez Museum i...</td>\n    </tr>\n    <tr>\n      <th>4</th>\n      <td>NrJSy3dgcXErFtOKGREmnw</td>\n      <td>Second brunch visit. Loved the Hash and the Eg...</td>\n    </tr>\n    <tr>\n      <th>...</th>\n      <td>...</td>\n      <td>...</td>\n    </tr>\n    <tr>\n      <th>108937</th>\n      <td>UxWH8zRYIBgs6Q2oykvRdw</td>\n      <td>Always enjoy my brunches here. Love the oyster...</td>\n    </tr>\n    <tr>\n      <th>108938</th>\n      <td>mCNzKFTukMYHkZVRMXIIyw</td>\n      <td>This is probably the worst restaurant.. ever. ...</td>\n    </tr>\n    <tr>\n      <th>108939</th>\n      <td>YPwOvJRVAjlhChzsGnCdyg</td>\n      <td>Small cozy place . Great prices, really good s...</td>\n    </tr>\n    <tr>\n      <th>108940</th>\n      <td>GhvZDqLJApNYFrByjnb2cA</td>\n      <td>\":\"Where did these boobies come from? They're ...</td>\n    </tr>\n    <tr>\n      <th>108941</th>\n      <td>gyPmHqIqC5-RAAy51oiafQ</td>\n      <td>Great ambience and kind of mystic! It is build...</td>\n    </tr>\n  </tbody>\n</table>\n<p>108942 rows × 2 columns</p>\n</div>"
     },
     "metadata": {},
     "execution_count": 4
    }
   ],
   "source": [
    "textReview=pd.read_csv('outputforex3.csv',usecols=['business_id','textReview'])\n",
    "textReview"
   ]
  },
  {
   "cell_type": "code",
   "execution_count": 5,
   "metadata": {},
   "outputs": [],
   "source": [
    "reviews=textReview.groupby(['business_id'])\n",
    "\n"
   ]
  },
  {
   "cell_type": "code",
   "execution_count": 6,
   "metadata": {},
   "outputs": [],
   "source": [
    "\n",
    "cl_data=data.drop(['name','address','city','state','postal_code','latitude','longitude','is_open','attributes','hours'],axis=1)\n",
    "\n",
    "for line in cl_data.index:    \n",
    "    if 'Shopping' in str(cl_data.categories[line]) :\n",
    "      cl_data.loc[line, 'categories']='Shopping'\n",
    "\n",
    "    elif 'Bars' in str(cl_data.categories[line]) :\n",
    "      cl_data.loc[line, 'categories']='Bars'\n",
    "      \n",
    "    elif 'Beauty & Spas' in str(cl_data.categories[line]):\n",
    "      cl_data.loc[line, 'categories']='Beauty & Spas'\n",
    "\n"
   ]
  },
  {
   "cell_type": "code",
   "execution_count": 7,
   "metadata": {},
   "outputs": [],
   "source": [
    "cl_data['categories'].replace({\"Bars\":\"1\",\"Shopping\":\"2\",\"Beauty & Spas\":\"3\"},inplace=True)\n",
    "cl_data.to_csv(\"cl_data.csv\")"
   ]
  },
  {
   "cell_type": "code",
   "execution_count": 8,
   "metadata": {},
   "outputs": [
    {
     "output_type": "execute_result",
     "data": {
      "text/plain": [
       "                 business_id  stars  review_count categories  \\\n",
       "0     cicPsia8Wj-DNRkmLbD_xg    3.5            91          1   \n",
       "1     xVXyrTWbG8U3szze-aA7eg    2.0            34          1   \n",
       "2     TKKX9bllRBMzp0NYr441PQ    4.0            51          1   \n",
       "3     C9keC4mWuXdl2mYFHZXudQ    5.0            12          2   \n",
       "4     LRRhbtaohbXGMdaJ1yZjbQ    4.0            38          1   \n",
       "...                      ...    ...           ...        ...   \n",
       "1959  __8j8yhsmE98wNWHJNyAgw    3.0            91          1   \n",
       "1960  VIsPmeZBMLkgbgw4UqCjUQ    3.0            12          1   \n",
       "1961  BagD2-u3trnlefs_OEPIig    4.5            18          1   \n",
       "1962  Ik7WA5Lb6zUQ6zPxCxPCJQ    2.5            16          2   \n",
       "1963  GhvZDqLJApNYFrByjnb2cA    3.5            59          2   \n",
       "\n",
       "                                             textReview  \n",
       "0     Consistently good, as the Keg tends to be.\\n\\n...  \n",
       "1     I would give zero stars. I came here with a gr...  \n",
       "2     Mi'Hito is a new poke\\/sushi burrito chain tha...  \n",
       "3     If you're a boy and you want to wear some hot ...  \n",
       "4     This place came highly recommended by a collea...  \n",
       "...                                                 ...  \n",
       "1959  I got food poisoning from here.\\n\\nThe sushi w...  \n",
       "1960  Having heard about AAA from others and undoubt...  \n",
       "1961  Milka, the owner, is an absolute delight-grab ...  \n",
       "1962  I've been a member for about four years and at...  \n",
       "1963  I am the producer of a feminist film society i...  \n",
       "\n",
       "[1964 rows x 5 columns]"
      ],
      "text/html": "<div>\n<style scoped>\n    .dataframe tbody tr th:only-of-type {\n        vertical-align: middle;\n    }\n\n    .dataframe tbody tr th {\n        vertical-align: top;\n    }\n\n    .dataframe thead th {\n        text-align: right;\n    }\n</style>\n<table border=\"1\" class=\"dataframe\">\n  <thead>\n    <tr style=\"text-align: right;\">\n      <th></th>\n      <th>business_id</th>\n      <th>stars</th>\n      <th>review_count</th>\n      <th>categories</th>\n      <th>textReview</th>\n    </tr>\n  </thead>\n  <tbody>\n    <tr>\n      <th>0</th>\n      <td>cicPsia8Wj-DNRkmLbD_xg</td>\n      <td>3.5</td>\n      <td>91</td>\n      <td>1</td>\n      <td>Consistently good, as the Keg tends to be.\\n\\n...</td>\n    </tr>\n    <tr>\n      <th>1</th>\n      <td>xVXyrTWbG8U3szze-aA7eg</td>\n      <td>2.0</td>\n      <td>34</td>\n      <td>1</td>\n      <td>I would give zero stars. I came here with a gr...</td>\n    </tr>\n    <tr>\n      <th>2</th>\n      <td>TKKX9bllRBMzp0NYr441PQ</td>\n      <td>4.0</td>\n      <td>51</td>\n      <td>1</td>\n      <td>Mi'Hito is a new poke\\/sushi burrito chain tha...</td>\n    </tr>\n    <tr>\n      <th>3</th>\n      <td>C9keC4mWuXdl2mYFHZXudQ</td>\n      <td>5.0</td>\n      <td>12</td>\n      <td>2</td>\n      <td>If you're a boy and you want to wear some hot ...</td>\n    </tr>\n    <tr>\n      <th>4</th>\n      <td>LRRhbtaohbXGMdaJ1yZjbQ</td>\n      <td>4.0</td>\n      <td>38</td>\n      <td>1</td>\n      <td>This place came highly recommended by a collea...</td>\n    </tr>\n    <tr>\n      <th>...</th>\n      <td>...</td>\n      <td>...</td>\n      <td>...</td>\n      <td>...</td>\n      <td>...</td>\n    </tr>\n    <tr>\n      <th>1959</th>\n      <td>__8j8yhsmE98wNWHJNyAgw</td>\n      <td>3.0</td>\n      <td>91</td>\n      <td>1</td>\n      <td>I got food poisoning from here.\\n\\nThe sushi w...</td>\n    </tr>\n    <tr>\n      <th>1960</th>\n      <td>VIsPmeZBMLkgbgw4UqCjUQ</td>\n      <td>3.0</td>\n      <td>12</td>\n      <td>1</td>\n      <td>Having heard about AAA from others and undoubt...</td>\n    </tr>\n    <tr>\n      <th>1961</th>\n      <td>BagD2-u3trnlefs_OEPIig</td>\n      <td>4.5</td>\n      <td>18</td>\n      <td>1</td>\n      <td>Milka, the owner, is an absolute delight-grab ...</td>\n    </tr>\n    <tr>\n      <th>1962</th>\n      <td>Ik7WA5Lb6zUQ6zPxCxPCJQ</td>\n      <td>2.5</td>\n      <td>16</td>\n      <td>2</td>\n      <td>I've been a member for about four years and at...</td>\n    </tr>\n    <tr>\n      <th>1963</th>\n      <td>GhvZDqLJApNYFrByjnb2cA</td>\n      <td>3.5</td>\n      <td>59</td>\n      <td>2</td>\n      <td>I am the producer of a feminist film society i...</td>\n    </tr>\n  </tbody>\n</table>\n<p>1964 rows × 5 columns</p>\n</div>"
     },
     "metadata": {},
     "execution_count": 8
    }
   ],
   "source": [
    "cl_data=pd.merge(cl_data,reviews.sum(),how='inner',on=\"business_id\")\n",
    "cl_data"
   ]
  },
  {
   "cell_type": "code",
   "execution_count": 9,
   "metadata": {},
   "outputs": [],
   "source": [
    "reviews_data=[]\n",
    "for i in cl_data[\"textReview\"]:\n",
    "    reviews_data.append(i)\n",
    "\n",
    "\n",
    "vectorizer = sk_text.TfidfVectorizer(stop_words='english',\n",
    "                             max_features = 1000,\n",
    "                             min_df=4, max_df=0.8)\n",
    "X= vectorizer.fit_transform(reviews_data)\n",
    "y=cl_data[\"categories\"]\n",
    "\n",
    "\n"
   ]
  },
  {
   "cell_type": "code",
   "execution_count": 10,
   "metadata": {},
   "outputs": [
    {
     "output_type": "display_data",
     "data": {
      "text/plain": "(1473, 1000)"
     },
     "metadata": {}
    },
    {
     "output_type": "display_data",
     "data": {
      "text/plain": "(1473,)"
     },
     "metadata": {}
    },
    {
     "output_type": "display_data",
     "data": {
      "text/plain": "(491, 1000)"
     },
     "metadata": {}
    },
    {
     "output_type": "display_data",
     "data": {
      "text/plain": "(491,)"
     },
     "metadata": {}
    },
    {
     "output_type": "stream",
     "name": "stdout",
     "text": [
      "  (0, 36)\t0.31707152213080675\n  (0, 386)\t0.04539200745735939\n  (0, 246)\t0.7018767688551377\n  (0, 128)\t0.018058671288356917\n  (0, 969)\t0.015186051319343261\n  (0, 971)\t0.016459986063473476\n  (0, 631)\t0.01563331917253262\n  (0, 937)\t0.0165669636175872\n  (0, 845)\t0.013813513351600632\n  (0, 92)\t0.03278784800384329\n  (0, 332)\t0.011212725815725631\n  (0, 160)\t0.014278422990841456\n  (0, 637)\t0.016926053137454225\n  (0, 138)\t0.014278422990841456\n  (0, 464)\t0.013428901394608252\n  (0, 575)\t0.030681982396227183\n  (0, 777)\t0.06495122813630608\n  (0, 633)\t0.0277192000863329\n  (0, 310)\t0.01538903334709787\n  (0, 241)\t0.02925982955464904\n  (0, 509)\t0.015788808855080397\n  (0, 836)\t0.0323220017631659\n  (0, 634)\t0.03725520739133302\n  (0, 619)\t0.015492713238541223\n  (0, 152)\t0.012677025757741676\n  :\t:\n  (1472, 827)\t0.03266813109652407\n  (1472, 187)\t0.028799809688689965\n  (1472, 629)\t0.038078184208888984\n  (1472, 697)\t0.03793404739483772\n  (1472, 894)\t0.10807269948469607\n  (1472, 260)\t0.09301413496548501\n  (1472, 285)\t0.06180066227079688\n  (1472, 26)\t0.032044082719400804\n  (1472, 45)\t0.026484115168809105\n  (1472, 327)\t0.05501562428749585\n  (1472, 337)\t0.05850809129940367\n  (1472, 150)\t0.0349279280316418\n  (1472, 322)\t0.029946190664467347\n  (1472, 2)\t0.04195927875910171\n  (1472, 391)\t0.1890506720017005\n  (1472, 925)\t0.028784320313742964\n  (1472, 683)\t0.18607035526168117\n  (1472, 628)\t0.08823895633715126\n  (1472, 564)\t0.03346553757004037\n  (1472, 185)\t0.06065198438716142\n  (1472, 940)\t0.02832487426103328\n  (1472, 40)\t0.0452829829270062\n  (1472, 274)\t0.18613921238704312\n  (1472, 955)\t0.05179145549684702\n  (1472, 53)\t0.03381677739903169\n"
     ]
    }
   ],
   "source": [
    "X_train,X_test,y_train,y_test=train_test_split(X,y,test_size=0.25,random_state=0)\n",
    "display(X_train.shape,y_train.shape,X_test.shape,y_test.shape)\n",
    "print(X_train)"
   ]
  },
  {
   "cell_type": "code",
   "execution_count": 11,
   "metadata": {},
   "outputs": [
    {
     "output_type": "stream",
     "name": "stdout",
     "text": [
      "classifier accuracy: 0.9368635437881874\n"
     ]
    }
   ],
   "source": [
    "dtree = tree.DecisionTreeClassifier()\n",
    "dtree = dtree.fit(X_train, y_train)\n",
    "\n",
    "print(\"classifier accuracy:\",dtree.score(X_test,y_test))\n",
    "\n",
    "y_pred = dtree.predict(X_test)\n",
    "y_prob = dtree.predict_proba(X_test)"
   ]
  },
  {
   "cell_type": "code",
   "execution_count": 12,
   "metadata": {},
   "outputs": [
    {
     "output_type": "stream",
     "name": "stdout",
     "text": [
      "classifier score: 0.9531568228105907\n",
      "\n",
      "accuracy: 0.9531568228105907\n",
      "\n",
      "Confusion matrix\n",
      "[[318   1]\n",
      " [ 22 150]]\n",
      "\n",
      "Precision Score per class\n",
      "[0.93529412 0.99337748]\n",
      "\n",
      "Average Precision Score\n",
      "0.9556410400849892\n",
      "\n",
      "Recall Score per class\n",
      "[0.9968652  0.87209302]\n",
      "\n",
      "Average Recall Score\n",
      "0.9531568228105907\n",
      "\n",
      "F1-score Score per class\n",
      "[0.96509863 0.92879257]\n",
      "\n",
      "Average F1 Score\n",
      "0.9523804202063811\n"
     ]
    }
   ],
   "source": [
    "\n",
    "knn = KNeighborsClassifier(n_neighbors=3)\n",
    "knn.fit(X_train,y_train)\n",
    "print(\"classifier score:\", knn.score(X_test,y_test))\n",
    "\n",
    "y_pred = knn.predict(X_test)\n",
    "\n",
    "print(\"\\naccuracy:\",metrics.accuracy_score(y_test,y_pred))\n",
    "print(\"\\nConfusion matrix\")\n",
    "print(metrics.confusion_matrix(y_test,y_pred))\n",
    "print(\"\\nPrecision Score per class\")\n",
    "print(metrics.precision_score(y_test,y_pred,average=None))\n",
    "print(\"\\nAverage Precision Score\")\n",
    "print(metrics.precision_score(y_test,y_pred,average='weighted'))\n",
    "print(\"\\nRecall Score per class\")\n",
    "print(metrics.recall_score(y_test,y_pred,average=None))\n",
    "print(\"\\nAverage Recall Score\")\n",
    "print(metrics.recall_score(y_test,y_pred,average='weighted'))\n",
    "print(\"\\nF1-score Score per class\")\n",
    "print(metrics.f1_score(y_test,y_pred,average=None))\n",
    "print(\"\\nAverage F1 Score\")\n",
    "print(metrics.f1_score(y_test,y_pred,average='weighted'))\n",
    "\n"
   ]
  },
  {
   "cell_type": "code",
   "execution_count": 13,
   "metadata": {},
   "outputs": [
    {
     "output_type": "stream",
     "name": "stdout",
     "text": [
      "classifier score: 0.955193482688391\n",
      "\n",
      "accuracy: 0.955193482688391\n",
      "\n",
      "Confusion matrix\n",
      "[[317   2]\n",
      " [ 20 152]]\n",
      "\n",
      "Precision Score per class\n",
      "[0.94065282 0.98701299]\n",
      "\n",
      "Average Precision Score\n",
      "0.9568930407828798\n",
      "\n",
      "Recall Score per class\n",
      "[0.99373041 0.88372093]\n",
      "\n",
      "Average Recall Score\n",
      "0.955193482688391\n",
      "\n",
      "F1-score Score per class\n",
      "[0.96646341 0.93251534]\n",
      "\n",
      "Average F1 Score\n",
      "0.9545712165073371\n"
     ]
    }
   ],
   "source": [
    "svm_clf = svm.SVC()\n",
    "svm_clf.fit(X_train,y_train)\n",
    "print(\"classifier score:\",svm_clf.score(X_test,y_test))\n",
    "y_pred = svm_clf.predict(X_test)\n",
    "print(\"\\naccuracy:\",metrics.accuracy_score(y_test,y_pred))\n",
    "print(\"\\nConfusion matrix\")\n",
    "print(metrics.confusion_matrix(y_test,y_pred))\n",
    "print(\"\\nPrecision Score per class\")\n",
    "print(metrics.precision_score(y_test,y_pred,average=None))\n",
    "print(\"\\nAverage Precision Score\")\n",
    "print(metrics.precision_score(y_test,y_pred,average='weighted'))\n",
    "print(\"\\nRecall Score per class\")\n",
    "print(metrics.recall_score(y_test,y_pred,average=None))\n",
    "print(\"\\nAverage Recall Score\")\n",
    "print(metrics.recall_score(y_test,y_pred,average='weighted'))\n",
    "print(\"\\nF1-score Score per class\")\n",
    "print(metrics.f1_score(y_test,y_pred,average=None))\n",
    "print(\"\\nAverage F1 Score\")\n",
    "print(metrics.f1_score(y_test,y_pred,average='weighted'))"
   ]
  },
  {
   "cell_type": "code",
   "execution_count": 14,
   "metadata": {},
   "outputs": [
    {
     "output_type": "execute_result",
     "data": {
      "text/plain": [
       "18      1\n",
       "781     1\n",
       "342     2\n",
       "1273    2\n",
       "579     1\n",
       "       ..\n",
       "1474    2\n",
       "302     2\n",
       "532     2\n",
       "1036    2\n",
       "171     1\n",
       "Name: categories, Length: 491, dtype: object"
      ]
     },
     "metadata": {},
     "execution_count": 14
    }
   ],
   "source": [
    "lr=LogisticRegression()\n",
    "lr.fit(X_train,y_train)\n",
    "y_pred=lr.predict(X_test)\n",
    "y_pred\n",
    "y_test"
   ]
  },
  {
   "cell_type": "code",
   "execution_count": 15,
   "metadata": {},
   "outputs": [
    {
     "output_type": "execute_result",
     "data": {
      "text/plain": [
       "array([[317,   2],\n",
       "       [ 18, 154]])"
      ]
     },
     "metadata": {},
     "execution_count": 15
    }
   ],
   "source": [
    "cnf_matrix=metrics.confusion_matrix(y_test,y_pred)\n",
    "cnf_matrix"
   ]
  },
  {
   "cell_type": "code",
   "execution_count": 16,
   "metadata": {},
   "outputs": [
    {
     "output_type": "stream",
     "name": "stdout",
     "text": [
      "accuracy score: 0.9592668024439919\naccuracy in percentage: 95 %\n\nPrecision Score per class\n[0.94626866 0.98717949]\n\nRecall Score per class\n[0.99373041 0.89534884]\n\nF1-score Score per class\n[0.96941896 0.93902439]\n"
     ]
    }
   ],
   "source": [
    "accuracyScore=metrics.accuracy_score(y_test,y_pred)\n",
    "print('accuracy score:',accuracyScore)\n",
    "print(\"accuracy in percentage:\",int(accuracyScore*100),\"%\")\n",
    "print(\"\\nPrecision Score per class\")\n",
    "print(metrics.precision_score(y_test,y_pred,average=None))\n",
    "print(\"\\nRecall Score per class\")\n",
    "print(metrics.recall_score(y_test,y_pred,average=None))\n",
    "print(\"\\nF1-score Score per class\")\n",
    "print(metrics.f1_score(y_test,y_pred,average=None))"
   ]
  },
  {
   "cell_type": "code",
   "execution_count": 17,
   "metadata": {},
   "outputs": [
    {
     "output_type": "stream",
     "name": "stdout",
     "text": [
      "Dtree scores: [0.93134746 0.93402336 0.91868909 0.92830804 0.93894598]\n0.9302627831517171\n"
     ]
    }
   ],
   "source": [
    "import sklearn.model_selection as model_selection\n",
    "\n",
    "scores = model_selection.cross_val_score(\n",
    "                                          dtree,\n",
    "                                          X,\n",
    "                                          y,\n",
    "                                          scoring='f1_weighted',\n",
    "                                          cv=5)\n",
    "print (\"Dtree scores:\",scores)\n",
    "print (scores.mean())"
   ]
  },
  {
   "cell_type": "code",
   "execution_count": 18,
   "metadata": {},
   "outputs": [
    {
     "output_type": "stream",
     "name": "stdout",
     "text": [
      " Lr scores: [0.98208989 0.96927487 0.97693656 0.95881377 0.96405896]\n0.9702348103228011\n"
     ]
    }
   ],
   "source": [
    "scores2 = model_selection.cross_val_score(\n",
    "                                          lr,\n",
    "                                          X,\n",
    "                                          y,\n",
    "                                          scoring='f1_weighted',\n",
    "                                          cv=5)\n",
    "print (\" Lr scores:\",scores2)\n",
    "print (scores2.mean())"
   ]
  },
  {
   "cell_type": "code",
   "execution_count": 19,
   "metadata": {},
   "outputs": [
    {
     "output_type": "stream",
     "name": "stdout",
     "text": [
      "Svm scores: [0.97951388 0.97701263 0.96402849 0.96402849 0.9590595 ]\n0.9687285973342628\n"
     ]
    }
   ],
   "source": [
    "scores3 = model_selection.cross_val_score(\n",
    "                                          svm_clf,\n",
    "                                          X,\n",
    "                                          y,\n",
    "                                          scoring='f1_weighted',\n",
    "                                          cv=5)\n",
    "print (\"Svm scores:\",scores3)\n",
    "print (scores3.mean())"
   ]
  },
  {
   "cell_type": "code",
   "execution_count": 20,
   "metadata": {},
   "outputs": [
    {
     "output_type": "stream",
     "name": "stdout",
     "text": [
      "Knn scores: [0.97443547 0.97190432 0.96396205 0.94861213 0.94630765]\n0.9610443244819671\n"
     ]
    }
   ],
   "source": [
    "scores4 = model_selection.cross_val_score(\n",
    "                                          knn,\n",
    "                                          X,\n",
    "                                          y,\n",
    "                                          scoring='f1_weighted',\n",
    "                                          cv=5)\n",
    "print (\"Knn scores:\",scores4)\n",
    "print (scores4.mean())"
   ]
  }
 ]
}